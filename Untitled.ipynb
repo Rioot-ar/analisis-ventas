{
 "cells": [
  {
   "cell_type": "code",
   "execution_count": 93,
   "id": "9bd3f3bd-ca36-47b5-a9c3-335c51fe2d63",
   "metadata": {},
   "outputs": [],
   "source": [
    "import requests\n",
    "import pandas as pd"
   ]
  },
  {
   "cell_type": "code",
   "execution_count": 94,
   "id": "d446594e-9168-4093-9077-f8061bf8ac6e",
   "metadata": {},
   "outputs": [],
   "source": [
    "r=requests.get('http://localhost:8080/subcategory/getall')\n",
    "content=r.json()"
   ]
  },
  {
   "cell_type": "code",
   "execution_count": 95,
   "id": "aa269168-f136-4624-8c7d-b5febda8242e",
   "metadata": {},
   "outputs": [
    {
     "name": "stdout",
     "output_type": "stream",
     "text": [
      "0   {'idSubcategory': 1, 'name': 'Caramelo', 'category': 'Almacen'}\n",
      "1   {'idSubcategory': 2, 'name': 'Vacuna', 'category': 'Carniceria'}\n",
      "2   {'idSubcategory': 3, 'name': 'Pollo', 'category': 'Carniceria'}\n",
      "3   {'idSubcategory': 4, 'name': 'Cerdo', 'category': 'Carniceria'}\n",
      "4   {'idSubcategory': 5, 'name': 'Cordero', 'category': 'Carniceria'}\n",
      "5   {'idSubcategory': 6, 'name': 'Gaseosa', 'category': 'Almacen'}\n",
      "6   {'idSubcategory': 7, 'name': 'Alfajor', 'category': 'Almacen'}\n"
     ]
    }
   ],
   "source": [
    "for x,y in enumerate(content):\n",
    "    y['category'] = y['category']['name']\n",
    "    print(x,' ',y)"
   ]
  },
  {
   "cell_type": "code",
   "execution_count": 96,
   "id": "3f32d12a-f119-4b57-bcf7-8d329e4b02b6",
   "metadata": {},
   "outputs": [
    {
     "data": {
      "text/html": [
       "<div>\n",
       "<style scoped>\n",
       "    .dataframe tbody tr th:only-of-type {\n",
       "        vertical-align: middle;\n",
       "    }\n",
       "\n",
       "    .dataframe tbody tr th {\n",
       "        vertical-align: top;\n",
       "    }\n",
       "\n",
       "    .dataframe thead th {\n",
       "        text-align: right;\n",
       "    }\n",
       "</style>\n",
       "<table border=\"1\" class=\"dataframe\">\n",
       "  <thead>\n",
       "    <tr style=\"text-align: right;\">\n",
       "      <th></th>\n",
       "      <th>idSubcategory</th>\n",
       "      <th>name</th>\n",
       "      <th>category</th>\n",
       "    </tr>\n",
       "  </thead>\n",
       "  <tbody>\n",
       "    <tr>\n",
       "      <th>0</th>\n",
       "      <td>1</td>\n",
       "      <td>Caramelo</td>\n",
       "      <td>Almacen</td>\n",
       "    </tr>\n",
       "    <tr>\n",
       "      <th>1</th>\n",
       "      <td>2</td>\n",
       "      <td>Vacuna</td>\n",
       "      <td>Carniceria</td>\n",
       "    </tr>\n",
       "    <tr>\n",
       "      <th>2</th>\n",
       "      <td>3</td>\n",
       "      <td>Pollo</td>\n",
       "      <td>Carniceria</td>\n",
       "    </tr>\n",
       "    <tr>\n",
       "      <th>3</th>\n",
       "      <td>4</td>\n",
       "      <td>Cerdo</td>\n",
       "      <td>Carniceria</td>\n",
       "    </tr>\n",
       "    <tr>\n",
       "      <th>4</th>\n",
       "      <td>5</td>\n",
       "      <td>Cordero</td>\n",
       "      <td>Carniceria</td>\n",
       "    </tr>\n",
       "    <tr>\n",
       "      <th>5</th>\n",
       "      <td>6</td>\n",
       "      <td>Gaseosa</td>\n",
       "      <td>Almacen</td>\n",
       "    </tr>\n",
       "    <tr>\n",
       "      <th>6</th>\n",
       "      <td>7</td>\n",
       "      <td>Alfajor</td>\n",
       "      <td>Almacen</td>\n",
       "    </tr>\n",
       "  </tbody>\n",
       "</table>\n",
       "</div>"
      ],
      "text/plain": [
       "   idSubcategory      name    category\n",
       "0              1  Caramelo     Almacen\n",
       "1              2    Vacuna  Carniceria\n",
       "2              3     Pollo  Carniceria\n",
       "3              4     Cerdo  Carniceria\n",
       "4              5   Cordero  Carniceria\n",
       "5              6   Gaseosa     Almacen\n",
       "6              7   Alfajor     Almacen"
      ]
     },
     "execution_count": 96,
     "metadata": {},
     "output_type": "execute_result"
    }
   ],
   "source": [
    "df = pd.DataFrame(content)\n",
    "df"
   ]
  },
  {
   "cell_type": "code",
   "execution_count": 97,
   "id": "80d9ca53-0021-4b17-b416-0f561d7fb9fd",
   "metadata": {},
   "outputs": [],
   "source": [
    "rp=requests.get('http://localhost:8080/products/getall')\n",
    "products = rp.json()"
   ]
  },
  {
   "cell_type": "code",
   "execution_count": 98,
   "id": "3c3c35bc-4657-40be-bd30-a6880ca053ef",
   "metadata": {},
   "outputs": [],
   "source": [
    "for x,y in enumerate(products):\n",
    "    y['category'] = y['subcategory']['category']['name'] \n",
    "    y['subcategory'] = y['subcategory']['name']"
   ]
  },
  {
   "cell_type": "code",
   "execution_count": 105,
   "id": "a3e0d673-23b4-480d-a561-37287f5a01b8",
   "metadata": {},
   "outputs": [
    {
     "data": {
      "text/html": [
       "<div>\n",
       "<style scoped>\n",
       "    .dataframe tbody tr th:only-of-type {\n",
       "        vertical-align: middle;\n",
       "    }\n",
       "\n",
       "    .dataframe tbody tr th {\n",
       "        vertical-align: top;\n",
       "    }\n",
       "\n",
       "    .dataframe thead th {\n",
       "        text-align: right;\n",
       "    }\n",
       "</style>\n",
       "<table border=\"1\" class=\"dataframe\">\n",
       "  <thead>\n",
       "    <tr style=\"text-align: right;\">\n",
       "      <th></th>\n",
       "      <th>name</th>\n",
       "      <th>cost</th>\n",
       "      <th>stock</th>\n",
       "      <th>subcategory</th>\n",
       "      <th>category</th>\n",
       "    </tr>\n",
       "    <tr>\n",
       "      <th>id_product</th>\n",
       "      <th></th>\n",
       "      <th></th>\n",
       "      <th></th>\n",
       "      <th></th>\n",
       "      <th></th>\n",
       "    </tr>\n",
       "  </thead>\n",
       "  <tbody>\n",
       "    <tr>\n",
       "      <th>1</th>\n",
       "      <td>Acidos Arcor</td>\n",
       "      <td>50</td>\n",
       "      <td>260</td>\n",
       "      <td>Caramelo</td>\n",
       "      <td>Almacen</td>\n",
       "    </tr>\n",
       "  </tbody>\n",
       "</table>\n",
       "</div>"
      ],
      "text/plain": [
       "                    name  cost  stock subcategory category\n",
       "id_product                                                \n",
       "1           Acidos Arcor    50    260    Caramelo  Almacen"
      ]
     },
     "execution_count": 105,
     "metadata": {},
     "output_type": "execute_result"
    }
   ],
   "source": [
    "df = pd.DataFrame(products)\n",
    "df = df.set_index('id_product')\n",
    "df"
   ]
  },
  {
   "cell_type": "code",
   "execution_count": 116,
   "id": "d88e8169-7449-4b95-aa7c-065d1b71d004",
   "metadata": {},
   "outputs": [
    {
     "data": {
      "text/plain": [
       "[{'cantidad': 3,\n",
       "  'subtotal': 150,\n",
       "  'product': {'id_product': 1,\n",
       "   'name': 'Acidos Arcor',\n",
       "   'cost': 50,\n",
       "   'stock': 260,\n",
       "   'subcategory': {'idSubcategory': 1,\n",
       "    'name': 'Caramelo',\n",
       "    'category': {'idCategory': 1, 'name': 'Almacen'}}},\n",
       "  'sale': {'fecha': '2023-05-20T15:30:00.000+00:00',\n",
       "   'cliente': 'Oscares',\n",
       "   'total': 150,\n",
       "   'metodo_pago': 'efectivo',\n",
       "   'ventasId': 1},\n",
       "  'detailId': 1}]"
      ]
     },
     "execution_count": 116,
     "metadata": {},
     "output_type": "execute_result"
    }
   ],
   "source": [
    "rsd=requests.get('http://localhost:8080/saledetail/getall')\n",
    "salesDetails = rsd.json()\n",
    "salesDetails"
   ]
  },
  {
   "cell_type": "code",
   "execution_count": 117,
   "id": "a00cf76f-ea6b-4189-b0db-e027715673db",
   "metadata": {},
   "outputs": [
    {
     "data": {
      "text/html": [
       "<div>\n",
       "<style scoped>\n",
       "    .dataframe tbody tr th:only-of-type {\n",
       "        vertical-align: middle;\n",
       "    }\n",
       "\n",
       "    .dataframe tbody tr th {\n",
       "        vertical-align: top;\n",
       "    }\n",
       "\n",
       "    .dataframe thead th {\n",
       "        text-align: right;\n",
       "    }\n",
       "</style>\n",
       "<table border=\"1\" class=\"dataframe\">\n",
       "  <thead>\n",
       "    <tr style=\"text-align: right;\">\n",
       "      <th></th>\n",
       "      <th>cantidad</th>\n",
       "      <th>subtotal</th>\n",
       "      <th>product</th>\n",
       "      <th>sale</th>\n",
       "      <th>detailId</th>\n",
       "    </tr>\n",
       "  </thead>\n",
       "  <tbody>\n",
       "    <tr>\n",
       "      <th>0</th>\n",
       "      <td>3</td>\n",
       "      <td>150</td>\n",
       "      <td>{'id_product': 1, 'name': 'Acidos Arcor', 'cos...</td>\n",
       "      <td>{'fecha': '2023-05-20T15:30:00.000+00:00', 'cl...</td>\n",
       "      <td>1</td>\n",
       "    </tr>\n",
       "  </tbody>\n",
       "</table>\n",
       "</div>"
      ],
      "text/plain": [
       "   cantidad  subtotal                                            product  \\\n",
       "0         3       150  {'id_product': 1, 'name': 'Acidos Arcor', 'cos...   \n",
       "\n",
       "                                                sale  detailId  \n",
       "0  {'fecha': '2023-05-20T15:30:00.000+00:00', 'cl...         1  "
      ]
     },
     "execution_count": 117,
     "metadata": {},
     "output_type": "execute_result"
    }
   ],
   "source": [
    "df = pd.DataFrame(salesDetails)\n",
    "df"
   ]
  },
  {
   "cell_type": "code",
   "execution_count": 118,
   "id": "24932618-ad83-4a09-bc41-8e375c734738",
   "metadata": {},
   "outputs": [],
   "source": [
    "for x,y in enumerate(salesDetails):\n",
    "    y['category'] = y['product']['subcategory']['category']['name'] \n",
    "    y['subcategory'] = y['product']['subcategory']['name']\n",
    "    y['product'] = y['product']['name']\n",
    "    y['sale'] = y['sale']['fecha']"
   ]
  },
  {
   "cell_type": "code",
   "execution_count": 120,
   "id": "cb7989e4-1c16-421f-a921-20fe59e2bd0a",
   "metadata": {},
   "outputs": [
    {
     "data": {
      "text/html": [
       "<div>\n",
       "<style scoped>\n",
       "    .dataframe tbody tr th:only-of-type {\n",
       "        vertical-align: middle;\n",
       "    }\n",
       "\n",
       "    .dataframe tbody tr th {\n",
       "        vertical-align: top;\n",
       "    }\n",
       "\n",
       "    .dataframe thead th {\n",
       "        text-align: right;\n",
       "    }\n",
       "</style>\n",
       "<table border=\"1\" class=\"dataframe\">\n",
       "  <thead>\n",
       "    <tr style=\"text-align: right;\">\n",
       "      <th></th>\n",
       "      <th>cantidad</th>\n",
       "      <th>subtotal</th>\n",
       "      <th>product</th>\n",
       "      <th>sale</th>\n",
       "      <th>category</th>\n",
       "      <th>subcategory</th>\n",
       "    </tr>\n",
       "    <tr>\n",
       "      <th>detailId</th>\n",
       "      <th></th>\n",
       "      <th></th>\n",
       "      <th></th>\n",
       "      <th></th>\n",
       "      <th></th>\n",
       "      <th></th>\n",
       "    </tr>\n",
       "  </thead>\n",
       "  <tbody>\n",
       "    <tr>\n",
       "      <th>1</th>\n",
       "      <td>3</td>\n",
       "      <td>150</td>\n",
       "      <td>Acidos Arcor</td>\n",
       "      <td>2023-05-20T15:30:00.000+00:00</td>\n",
       "      <td>Almacen</td>\n",
       "      <td>Caramelo</td>\n",
       "    </tr>\n",
       "  </tbody>\n",
       "</table>\n",
       "</div>"
      ],
      "text/plain": [
       "          cantidad  subtotal       product                           sale  \\\n",
       "detailId                                                                    \n",
       "1                3       150  Acidos Arcor  2023-05-20T15:30:00.000+00:00   \n",
       "\n",
       "         category subcategory  \n",
       "detailId                       \n",
       "1         Almacen    Caramelo  "
      ]
     },
     "execution_count": 120,
     "metadata": {},
     "output_type": "execute_result"
    }
   ],
   "source": [
    "df = pd.DataFrame(salesDetails)\n",
    "df = df.set_index('detailId')\n",
    "df"
   ]
  },
  {
   "cell_type": "code",
   "execution_count": 124,
   "id": "8c29ecb0-bbf5-42eb-9d3d-43a78b8f4011",
   "metadata": {},
   "outputs": [
    {
     "data": {
      "text/plain": [
       "450"
      ]
     },
     "execution_count": 124,
     "metadata": {},
     "output_type": "execute_result"
    }
   ],
   "source": []
  }
 ],
 "metadata": {
  "kernelspec": {
   "display_name": "Python 3 (ipykernel)",
   "language": "python",
   "name": "python3"
  },
  "language_info": {
   "codemirror_mode": {
    "name": "ipython",
    "version": 3
   },
   "file_extension": ".py",
   "mimetype": "text/x-python",
   "name": "python",
   "nbconvert_exporter": "python",
   "pygments_lexer": "ipython3",
   "version": "3.9.12"
  }
 },
 "nbformat": 4,
 "nbformat_minor": 5
}
